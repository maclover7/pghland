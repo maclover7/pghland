{
 "cells": [
  {
   "cell_type": "code",
   "execution_count": 1,
   "id": "ee6da127-5086-46f2-9101-adb54dbf6a09",
   "metadata": {},
   "outputs": [],
   "source": [
    "from bs4 import BeautifulSoup\n",
    "import pandas as pd\n",
    "import requests"
   ]
  },
  {
   "cell_type": "code",
   "execution_count": 2,
   "id": "f2acce1c-5b4c-46ab-9989-f899e3782c47",
   "metadata": {},
   "outputs": [],
   "source": [
    "DATE_RANGES = [\n",
    "    # ['2019-01-01', '2019-12-31'],\n",
    "    ['2020-01-01', '2020-12-31'],\n",
    "    ['2021-01-01', '2021-12-31'],\n",
    "    ['2022-01-01', '2022-12-31'],\n",
    "    ['2023-01-01', '2023-12-31'],\n",
    "]"
   ]
  },
  {
   "cell_type": "markdown",
   "id": "c35c8f09-d3fe-41a1-a5e0-e6ee68b3780f",
   "metadata": {},
   "source": [
    "### Initialize dataframe"
   ]
  },
  {
   "cell_type": "code",
   "execution_count": 3,
   "id": "d9346c06-01a1-45a8-a4cc-81dcd0ef672b",
   "metadata": {},
   "outputs": [],
   "source": [
    "df = pd.DataFrame(columns=['id', 'status'])"
   ]
  },
  {
   "cell_type": "markdown",
   "id": "f9cc98d7-086c-435e-a954-8963a0da699b",
   "metadata": {},
   "source": [
    "### Fetch 1S data"
   ]
  },
  {
   "cell_type": "code",
   "execution_count": 4,
   "id": "193e023c-ba52-47d3-853e-d692d9aa4e7e",
   "metadata": {},
   "outputs": [],
   "source": [
    "cookies = {\n",
    "    'SessionId': '1CpNzMLa6N84O6JWjZoZXd3xTwiyt_6y5D8f04Sg',\n",
    "    'Message': '',\n",
    "    'RedirectUrl': '/pghprod/pub/lms/',\n",
    "    '_ga_XQHP2JJ3J3': 'GS1.1.1670257278.1.0.1670257286.0.0.0',\n",
    "    '_ga_MX7DYVWZ35': 'GS1.1.1686087025.1.1.1686087485.0.0.0',\n",
    "    '_ga_K165D52QME': 'GS1.1.1688356544.1.1.1688356615.0.0.0',\n",
    "    '_ga_8GPB6WPGH9': 'GS1.1.1690145475.9.1.1690147631.0.0.0',\n",
    "    '_gid': 'GA1.2.1468669165.1691428936',\n",
    "    '_ga_6YKGFYBQNH': 'GS1.1.1691445597.67.1.1691447624.0.0.0',\n",
    "    '_ga': 'GA1.2.1287291922.1670020664',\n",
    "    'TawkConnectionTime': '0',\n",
    "    'twk_uuid_5e73b4b6eec7650c33213942': '%7B%22uuid%22%3A%221.2BiLQFcLaLjsGgGWjbtWSocWsTY6g8fai022kNGA4WRttmXcIALBwSbSVOdnqoaKDL4nTPQ6x0Crw9M95SjcLh8DP0UO6LdFyv9wN8rmLTPqjWMPDLF4KFw2Xl0%22%2C%22version%22%3A3%2C%22domain%22%3A%22pittsburghpa.gov%22%2C%22ts%22%3A1691448123976%7D',\n",
    "}\n",
    "\n",
    "headers = {\n",
    "    'Accept': 'text/html,application/xhtml+xml,application/xml;q=0.9,image/avif,image/webp,image/apng,*/*;q=0.8,application/signed-exchange;v=b3;q=0.7',\n",
    "    'Accept-Language': 'en-US,en;q=0.9',\n",
    "    'Cache-Control': 'max-age=0',\n",
    "    'Connection': 'keep-alive',\n",
    "    'Content-Type': 'application/x-www-form-urlencoded',\n",
    "    'Origin': 'https://onestoppgh.pittsburghpa.gov',\n",
    "    'Referer': 'https://onestoppgh.pittsburghpa.gov/pghprod/pub/lms/Default.aspx?PossePresentation=PlanningSearchByDate&IconName=clipboard_view.png',\n",
    "    'Sec-Fetch-Dest': 'document',\n",
    "    'Sec-Fetch-Mode': 'navigate',\n",
    "    'Sec-Fetch-Site': 'same-origin',\n",
    "    'Sec-Fetch-User': '?1',\n",
    "    'Upgrade-Insecure-Requests': '1',\n",
    "    'User-Agent': 'Mozilla/5.0 (Macintosh; Intel Mac OS X 10_15_7) AppleWebKit/537.36 (KHTML, like Gecko) Chrome/115.0.0.0 Safari/537.36',\n",
    "    'sec-ch-ua': '\"Not/A)Brand\";v=\"99\", \"Google Chrome\";v=\"115\", \"Chromium\";v=\"115\"',\n",
    "    'sec-ch-ua-mobile': '?0',\n",
    "    'sec-ch-ua-platform': '\"macOS\"',\n",
    "}\n",
    "\n",
    "params = {\n",
    "    'PossePresentation': 'PlanningSearchByDate',\n",
    "}"
   ]
  },
  {
   "cell_type": "code",
   "execution_count": 5,
   "id": "e505feae-6988-453b-8cfa-7d313d754e62",
   "metadata": {},
   "outputs": [],
   "source": [
    "for range in DATE_RANGES:\n",
    "    data = {\n",
    "        'currentpaneid': '965119',\n",
    "        'paneid': '1012313',\n",
    "        'functiondef': '5',\n",
    "        'sortcolumns': '{}',\n",
    "        'datachanges': \"'Zsaa6ePkErfAGy0dJCkkkoMZAMdASowRyn2qiQJOnO6a0hpg30vnsbLeLlT5FVtehQ1gkz5fgGCQ0R2sSu8kt3E0/Nax9uBawd2ESKKVhGhqFUTVZjnH5IUTDqa3ArcFQGkFQhPzWvSyInvlbSg7cih2LGuycWEZyhMYymm/yijSJQEFr2PJgkb/5QYUbLx5kBod0IWWqfoKG6yzXJj5egGaBK61mDbBeP5cv0LKj/jxHwRxbV7DJTGX34PRxnY2V9q%2B/RW%2BrG9DJW922wJ160rUrX5zXU%2BABawRj3rfrBqvGVCuBZWKO/47bhWDxpgsZG1icCFTeCllJi86M0E6VQ%3D%3D',('C','S0',1561533,'Zoning Development Review Application'),('C','S0',1010890,'{} 00:00:00'),('C','S0',996699,'{} 00:00:00'),('F','ext-gen1009',0,0)\".format(range[0], range[1]),\n",
    "        'comesfrom': 'posse',\n",
    "        'changesxml': '',\n",
    "        'changespending': 'T',\n",
    "        'changesonobject': '',\n",
    "    }\n",
    "    \n",
    "    response = requests.post(\n",
    "        'https://onestoppgh.pittsburghpa.gov/pghprod/pub/lms/Default.aspx',\n",
    "        params=params,\n",
    "        cookies=cookies,\n",
    "        headers=headers,\n",
    "        data=data,\n",
    "    )\n",
    "\n",
    "    doc = BeautifulSoup(response.text, 'html.parser')\n",
    "\n",
    "    for application in doc.find_all('tbody', { 'class': ['posseband_1'] }):\n",
    "        application_info = application.find('td', { 'valign': 'top' }).find('span').contents\n",
    "        df.loc[len(df.index)] = [application_info[0].split(':')[0], application_info[0].split(' - ')[1]]"
   ]
  },
  {
   "cell_type": "markdown",
   "id": "dd427a97-9e40-4f2e-b4f6-3d472ca95eff",
   "metadata": {},
   "source": [
    "### Parse 1S data, add to dataframe"
   ]
  },
  {
   "cell_type": "code",
   "execution_count": 6,
   "id": "add2abd8-dd17-42cd-a3de-14beba054de1",
   "metadata": {},
   "outputs": [
    {
     "data": {
      "text/html": [
       "<div>\n",
       "<style scoped>\n",
       "    .dataframe tbody tr th:only-of-type {\n",
       "        vertical-align: middle;\n",
       "    }\n",
       "\n",
       "    .dataframe tbody tr th {\n",
       "        vertical-align: top;\n",
       "    }\n",
       "\n",
       "    .dataframe thead th {\n",
       "        text-align: right;\n",
       "    }\n",
       "</style>\n",
       "<table border=\"1\" class=\"dataframe\">\n",
       "  <thead>\n",
       "    <tr style=\"text-align: right;\">\n",
       "      <th></th>\n",
       "      <th>id</th>\n",
       "      <th>status</th>\n",
       "    </tr>\n",
       "  </thead>\n",
       "  <tbody>\n",
       "    <tr>\n",
       "      <th>0</th>\n",
       "      <td>DCP-ZDR-2020-00002</td>\n",
       "      <td>Completed</td>\n",
       "    </tr>\n",
       "    <tr>\n",
       "      <th>1</th>\n",
       "      <td>DCP-ZDR-2020-00004</td>\n",
       "      <td>Completed</td>\n",
       "    </tr>\n",
       "    <tr>\n",
       "      <th>2</th>\n",
       "      <td>DCP-ZDR-2020-00006</td>\n",
       "      <td>Completed</td>\n",
       "    </tr>\n",
       "    <tr>\n",
       "      <th>3</th>\n",
       "      <td>DCP-ZDR-2020-00008</td>\n",
       "      <td>Cancelled</td>\n",
       "    </tr>\n",
       "    <tr>\n",
       "      <th>4</th>\n",
       "      <td>DCP-ZDR-2020-00011</td>\n",
       "      <td>Completed</td>\n",
       "    </tr>\n",
       "    <tr>\n",
       "      <th>...</th>\n",
       "      <td>...</td>\n",
       "      <td>...</td>\n",
       "    </tr>\n",
       "    <tr>\n",
       "      <th>7520</th>\n",
       "      <td>DCP-ZDR-2023-07679</td>\n",
       "      <td>In Review</td>\n",
       "    </tr>\n",
       "    <tr>\n",
       "      <th>7521</th>\n",
       "      <td>DCP-ZDR-2023-07691</td>\n",
       "      <td>In Review</td>\n",
       "    </tr>\n",
       "    <tr>\n",
       "      <th>7522</th>\n",
       "      <td>DCP-ZDR-2023-07701</td>\n",
       "      <td>Submitted</td>\n",
       "    </tr>\n",
       "    <tr>\n",
       "      <th>7523</th>\n",
       "      <td>DCP-ZDR-2023-07704</td>\n",
       "      <td>Submitted</td>\n",
       "    </tr>\n",
       "    <tr>\n",
       "      <th>7524</th>\n",
       "      <td>DCP-ZDR-2023-07709</td>\n",
       "      <td>Submitted</td>\n",
       "    </tr>\n",
       "  </tbody>\n",
       "</table>\n",
       "<p>7525 rows × 2 columns</p>\n",
       "</div>"
      ],
      "text/plain": [
       "                      id     status\n",
       "0     DCP-ZDR-2020-00002  Completed\n",
       "1     DCP-ZDR-2020-00004  Completed\n",
       "2     DCP-ZDR-2020-00006  Completed\n",
       "3     DCP-ZDR-2020-00008  Cancelled\n",
       "4     DCP-ZDR-2020-00011  Completed\n",
       "...                  ...        ...\n",
       "7520  DCP-ZDR-2023-07679  In Review\n",
       "7521  DCP-ZDR-2023-07691  In Review\n",
       "7522  DCP-ZDR-2023-07701  Submitted\n",
       "7523  DCP-ZDR-2023-07704  Submitted\n",
       "7524  DCP-ZDR-2023-07709  Submitted\n",
       "\n",
       "[7525 rows x 2 columns]"
      ]
     },
     "execution_count": 6,
     "metadata": {},
     "output_type": "execute_result"
    }
   ],
   "source": [
    "df"
   ]
  },
  {
   "cell_type": "markdown",
   "id": "387e70bc-e3e9-4146-9ae9-14593aa7d077",
   "metadata": {},
   "source": [
    "### Export cases"
   ]
  },
  {
   "cell_type": "code",
   "execution_count": 7,
   "id": "75e431a8-93e0-452c-9c3e-688aee0d9819",
   "metadata": {},
   "outputs": [],
   "source": [
    "df.to_csv('../output/cases-20-to-23.csv')"
   ]
  }
 ],
 "metadata": {
  "kernelspec": {
   "display_name": "Python 3 (ipykernel)",
   "language": "python",
   "name": "python3"
  },
  "language_info": {
   "codemirror_mode": {
    "name": "ipython",
    "version": 3
   },
   "file_extension": ".py",
   "mimetype": "text/x-python",
   "name": "python",
   "nbconvert_exporter": "python",
   "pygments_lexer": "ipython3",
   "version": "3.9.17"
  }
 },
 "nbformat": 4,
 "nbformat_minor": 5
}
