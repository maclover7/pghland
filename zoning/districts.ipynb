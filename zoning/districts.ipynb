{
 "cells": [
  {
   "cell_type": "markdown",
   "id": "8a492553-6caa-4870-b797-5cdeb4702119",
   "metadata": {},
   "source": [
    "# Analyze zoning districts"
   ]
  },
  {
   "cell_type": "code",
   "execution_count": 1,
   "id": "3781458a-cdb5-4673-a7fe-4518a1d65edb",
   "metadata": {},
   "outputs": [],
   "source": [
    "from sqlalchemy import create_engine\n",
    "import geopandas as gpd"
   ]
  },
  {
   "cell_type": "code",
   "execution_count": 2,
   "id": "32e6fabc-8343-4e49-b645-37fd22c4db89",
   "metadata": {},
   "outputs": [],
   "source": [
    "DB = create_engine('postgresql://jon@localhost:5432/propertydb')"
   ]
  },
  {
   "cell_type": "markdown",
   "id": "b5927470-7c95-446c-a31d-ff707290d744",
   "metadata": {},
   "source": [
    "### Import districts"
   ]
  },
  {
   "cell_type": "code",
   "execution_count": 4,
   "id": "91f5c230-14b2-465a-95cd-fd4a12700d70",
   "metadata": {},
   "outputs": [],
   "source": [
    "zoning = gpd.read_postgis(\"\"\"SELECT * FROM parcelzoningpgh;\"\"\", DB, crs='EPSG:4326')"
   ]
  },
  {
   "cell_type": "code",
   "execution_count": 5,
   "id": "8608fc03-6887-48fa-8c69-d90e0ca57917",
   "metadata": {},
   "outputs": [],
   "source": [
    "zoning['legendtype'] = zoning.legendtype.str.strip()\n",
    "zoning = zoning[zoning.legendtype != 'Mount Oliver Borough']\n",
    "\n",
    "zoning['legendtype'] = zoning.legendtype.replace('Single-Unit Attached Residential', 'Single-Unit A/D Residential')\n",
    "zoning['legendtype'] = zoning.legendtype.replace('Single-Unit Detached Residential', 'Single-Unit A/D Residential')"
   ]
  },
  {
   "cell_type": "markdown",
   "id": "9b47811c-8d63-42b6-97ff-5684da17ac12",
   "metadata": {},
   "source": [
    "### Remove rivers from districts"
   ]
  },
  {
   "cell_type": "code",
   "execution_count": 6,
   "id": "d4ab1a65-1627-45c9-9624-be02ef91ab5e",
   "metadata": {},
   "outputs": [],
   "source": [
    "rivers = gpd.read_file('../input/rivers.geojson')"
   ]
  },
  {
   "cell_type": "code",
   "execution_count": 7,
   "id": "0e18b7b8-5d93-46d5-a580-66ae1c9b1514",
   "metadata": {},
   "outputs": [],
   "source": [
    "zoning = zoning.overlay(rivers, how='symmetric_difference', keep_geom_type=True)"
   ]
  },
  {
   "cell_type": "markdown",
   "id": "cebadaf6-f90f-44e2-a255-a03e035942e9",
   "metadata": {},
   "source": [
    "### Summarize districts"
   ]
  },
  {
   "cell_type": "code",
   "execution_count": 8,
   "id": "b0c4da15-e533-4620-888d-ae518d8e0122",
   "metadata": {},
   "outputs": [],
   "source": [
    "agg = zoning.to_crs({ 'proj':'cea' })\n",
    "agg['area'] = agg.area * 10.7639 # sq meters to sq feet\n",
    "agg['area'] = agg.area / 43560 # sq feet to acres"
   ]
  },
  {
   "cell_type": "code",
   "execution_count": 9,
   "id": "c855c4bb-ee40-4141-89ca-84f8b94002f1",
   "metadata": {},
   "outputs": [],
   "source": [
    "agg = agg[~agg.legendtype.isin(['Parks', 'Hillside'])].groupby('legendtype').agg({ 'area': 'sum' }).reset_index()\n",
    "agg['pct'] = agg.area / agg.area.sum()"
   ]
  },
  {
   "cell_type": "code",
   "execution_count": 10,
   "id": "a5a0297d-2116-4974-aff3-300dfcce3e87",
   "metadata": {},
   "outputs": [
    {
     "data": {
      "text/html": [
       "<div>\n",
       "<style scoped>\n",
       "    .dataframe tbody tr th:only-of-type {\n",
       "        vertical-align: middle;\n",
       "    }\n",
       "\n",
       "    .dataframe tbody tr th {\n",
       "        vertical-align: top;\n",
       "    }\n",
       "\n",
       "    .dataframe thead th {\n",
       "        text-align: right;\n",
       "    }\n",
       "</style>\n",
       "<table border=\"1\" class=\"dataframe\">\n",
       "  <thead>\n",
       "    <tr style=\"text-align: right;\">\n",
       "      <th></th>\n",
       "      <th>legendtype</th>\n",
       "      <th>area</th>\n",
       "      <th>pct</th>\n",
       "    </tr>\n",
       "  </thead>\n",
       "  <tbody>\n",
       "    <tr>\n",
       "      <th>13</th>\n",
       "      <td>Single-Unit A/D Residential</td>\n",
       "      <td>1035.483662</td>\n",
       "      <td>0.446455</td>\n",
       "    </tr>\n",
       "    <tr>\n",
       "      <th>16</th>\n",
       "      <td>Two-Unit Residential</td>\n",
       "      <td>263.540607</td>\n",
       "      <td>0.113627</td>\n",
       "    </tr>\n",
       "    <tr>\n",
       "      <th>12</th>\n",
       "      <td>Riverfront</td>\n",
       "      <td>183.147037</td>\n",
       "      <td>0.078965</td>\n",
       "    </tr>\n",
       "    <tr>\n",
       "      <th>7</th>\n",
       "      <td>Multi-Unit Residential</td>\n",
       "      <td>176.764333</td>\n",
       "      <td>0.076213</td>\n",
       "    </tr>\n",
       "    <tr>\n",
       "      <th>20</th>\n",
       "      <td>Urban Industrial</td>\n",
       "      <td>138.404077</td>\n",
       "      <td>0.059674</td>\n",
       "    </tr>\n",
       "    <tr>\n",
       "      <th>11</th>\n",
       "      <td>Planned Unit Development</td>\n",
       "      <td>111.808882</td>\n",
       "      <td>0.048207</td>\n",
       "    </tr>\n",
       "    <tr>\n",
       "      <th>5</th>\n",
       "      <td>Local Neighborhood Commercial</td>\n",
       "      <td>90.898507</td>\n",
       "      <td>0.039191</td>\n",
       "    </tr>\n",
       "    <tr>\n",
       "      <th>0</th>\n",
       "      <td>Educational/Medical Institution</td>\n",
       "      <td>81.846908</td>\n",
       "      <td>0.035289</td>\n",
       "    </tr>\n",
       "    <tr>\n",
       "      <th>14</th>\n",
       "      <td>Specially Planned</td>\n",
       "      <td>50.288149</td>\n",
       "      <td>0.021682</td>\n",
       "    </tr>\n",
       "    <tr>\n",
       "      <th>1</th>\n",
       "      <td>General Industrial</td>\n",
       "      <td>36.992371</td>\n",
       "      <td>0.015949</td>\n",
       "    </tr>\n",
       "    <tr>\n",
       "      <th>2</th>\n",
       "      <td>Golden Triangle</td>\n",
       "      <td>35.328975</td>\n",
       "      <td>0.015232</td>\n",
       "    </tr>\n",
       "    <tr>\n",
       "      <th>21</th>\n",
       "      <td>Urban Neighborhood Commercial</td>\n",
       "      <td>29.771657</td>\n",
       "      <td>0.012836</td>\n",
       "    </tr>\n",
       "    <tr>\n",
       "      <th>8</th>\n",
       "      <td>Neighborhood Industrial</td>\n",
       "      <td>22.352013</td>\n",
       "      <td>0.009637</td>\n",
       "    </tr>\n",
       "    <tr>\n",
       "      <th>4</th>\n",
       "      <td>Highway Commercial</td>\n",
       "      <td>18.349027</td>\n",
       "      <td>0.007911</td>\n",
       "    </tr>\n",
       "    <tr>\n",
       "      <th>15</th>\n",
       "      <td>Three-Unit Residential</td>\n",
       "      <td>15.048632</td>\n",
       "      <td>0.006488</td>\n",
       "    </tr>\n",
       "    <tr>\n",
       "      <th>17</th>\n",
       "      <td>Uptown Public Realm</td>\n",
       "      <td>8.986146</td>\n",
       "      <td>0.003874</td>\n",
       "    </tr>\n",
       "    <tr>\n",
       "      <th>6</th>\n",
       "      <td>Mixed Use Residential</td>\n",
       "      <td>4.915976</td>\n",
       "      <td>0.002120</td>\n",
       "    </tr>\n",
       "    <tr>\n",
       "      <th>18</th>\n",
       "      <td>Urban Center Employment</td>\n",
       "      <td>4.835972</td>\n",
       "      <td>0.002085</td>\n",
       "    </tr>\n",
       "    <tr>\n",
       "      <th>3</th>\n",
       "      <td>Grandview Public Realm</td>\n",
       "      <td>3.351431</td>\n",
       "      <td>0.001445</td>\n",
       "    </tr>\n",
       "    <tr>\n",
       "      <th>19</th>\n",
       "      <td>Urban Center Mixed Use</td>\n",
       "      <td>3.101557</td>\n",
       "      <td>0.001337</td>\n",
       "    </tr>\n",
       "    <tr>\n",
       "      <th>9</th>\n",
       "      <td>Neighborhood Office</td>\n",
       "      <td>2.338314</td>\n",
       "      <td>0.001008</td>\n",
       "    </tr>\n",
       "    <tr>\n",
       "      <th>10</th>\n",
       "      <td>Oakland Public Realm</td>\n",
       "      <td>1.791333</td>\n",
       "      <td>0.000772</td>\n",
       "    </tr>\n",
       "  </tbody>\n",
       "</table>\n",
       "</div>"
      ],
      "text/plain": [
       "                         legendtype         area       pct\n",
       "13      Single-Unit A/D Residential  1035.483662  0.446455\n",
       "16             Two-Unit Residential   263.540607  0.113627\n",
       "12                       Riverfront   183.147037  0.078965\n",
       "7            Multi-Unit Residential   176.764333  0.076213\n",
       "20                 Urban Industrial   138.404077  0.059674\n",
       "11         Planned Unit Development   111.808882  0.048207\n",
       "5     Local Neighborhood Commercial    90.898507  0.039191\n",
       "0   Educational/Medical Institution    81.846908  0.035289\n",
       "14                Specially Planned    50.288149  0.021682\n",
       "1                General Industrial    36.992371  0.015949\n",
       "2                   Golden Triangle    35.328975  0.015232\n",
       "21    Urban Neighborhood Commercial    29.771657  0.012836\n",
       "8           Neighborhood Industrial    22.352013  0.009637\n",
       "4                Highway Commercial    18.349027  0.007911\n",
       "15           Three-Unit Residential    15.048632  0.006488\n",
       "17              Uptown Public Realm     8.986146  0.003874\n",
       "6             Mixed Use Residential     4.915976  0.002120\n",
       "18          Urban Center Employment     4.835972  0.002085\n",
       "3            Grandview Public Realm     3.351431  0.001445\n",
       "19           Urban Center Mixed Use     3.101557  0.001337\n",
       "9               Neighborhood Office     2.338314  0.001008\n",
       "10             Oakland Public Realm     1.791333  0.000772"
      ]
     },
     "execution_count": 10,
     "metadata": {},
     "output_type": "execute_result"
    }
   ],
   "source": [
    "agg.sort_values(by='pct', ascending=False)"
   ]
  }
 ],
 "metadata": {
  "kernelspec": {
   "display_name": "Python 3 (ipykernel)",
   "language": "python",
   "name": "python3"
  },
  "language_info": {
   "codemirror_mode": {
    "name": "ipython",
    "version": 3
   },
   "file_extension": ".py",
   "mimetype": "text/x-python",
   "name": "python",
   "nbconvert_exporter": "python",
   "pygments_lexer": "ipython3",
   "version": "3.9.18"
  }
 },
 "nbformat": 4,
 "nbformat_minor": 5
}
