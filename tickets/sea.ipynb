{
 "cells": [
  {
   "cell_type": "code",
   "execution_count": 286,
   "id": "6349ffca-449d-4dae-b934-7dec9229ca45",
   "metadata": {},
   "outputs": [],
   "source": [
    "import pdfplumber\n",
    "import pandas"
   ]
  },
  {
   "cell_type": "code",
   "execution_count": 373,
   "id": "955bc080-5f91-48ed-9bcf-81e15f2de0f8",
   "metadata": {},
   "outputs": [],
   "source": [
    "pagelines = {\n",
    "    # Acrisure, non-Steelers\n",
    "    1: [60, 90, 150, 260, 370, 405, 440, 750, 1075, 1135, 1160],\n",
    "    # Acrisure, Steelers\n",
    "    2: [68, 95, 180, 310, 460, 520, 550, 820, 1080, 1135, 1150],\n",
    "\n",
    "    # PPG, Penguins\n",
    "    3: [70, 95, 180, 310, 420, 465, 510, 760, 1000, 1090, 1130],\n",
    "    4: [70, 95, 180, 310, 420, 465, 510, 760, 1000, 1090, 1130],\n",
    "    # PPG, non-Penguins\n",
    "    5: [120, 150, 210, 390, 545, 595, 630, 840, 1010, 1070, 1095],\n",
    "    6: [120, 150, 210, 390, 545, 595, 630, 840, 1010, 1070, 1095],\n",
    "\n",
    "    # PNC, Pirates\n",
    "    7: [75, 105, 180, 350, 480, 550, 610, 780, 1000, 1100, 1135],\n",
    "    8: [75, 105, 180, 350, 490, 550, 610, 820, 1020, 1100, 1135],\n",
    "    9: [75, 105, 180, 350, 490, 550, 610, 820, 1020, 1100, 1135]\n",
    "}"
   ]
  },
  {
   "cell_type": "code",
   "execution_count": 321,
   "id": "89f49c01-36a1-4c5c-833f-10a224b217ed",
   "metadata": {},
   "outputs": [],
   "source": [
    "pdf = pdfplumber.open(\"tickets.pdf\")"
   ]
  },
  {
   "cell_type": "code",
   "execution_count": 374,
   "id": "fc00342e-d0f8-47cd-acfa-0124718e014d",
   "metadata": {},
   "outputs": [],
   "source": [
    "# pdf.pages[6].within_bbox((-14.4, 82, 1209.6, 740)).to_image().debug_tablefinder({\n",
    "#     \"horizontal_strategy\": \"text\",\n",
    "#     \"vertical_strategy\": \"explicit\",\n",
    "#     \"explicit_vertical_lines\": [75, 105, 180, 350, 480, 550, 610, 780, 1000, 1100, 1135]\n",
    "# })"
   ]
  },
  {
   "cell_type": "code",
   "execution_count": 375,
   "id": "7a7e2267-8e42-4c17-86e3-383d63b5691f",
   "metadata": {},
   "outputs": [],
   "source": [
    "tables = []"
   ]
  },
  {
   "cell_type": "code",
   "execution_count": 376,
   "id": "353fa300-8f90-4627-9471-904a824be6c5",
   "metadata": {},
   "outputs": [],
   "source": [
    "for page in pdf.pages:\n",
    "    crop = page.within_bbox((-14.4, 82, 1209.6, 740))\n",
    "    table = crop.extract_table({\n",
    "        \"horizontal_strategy\": \"text\",\n",
    "        \"vertical_strategy\": \"explicit\",\n",
    "        \"explicit_vertical_lines\": pagelines[page.page_number]\n",
    "    })\n",
    "\n",
    "    tables.append(table)"
   ]
  },
  {
   "cell_type": "code",
   "execution_count": 387,
   "id": "688cbf02-1ad6-4daa-a560-7af0ac30b684",
   "metadata": {},
   "outputs": [],
   "source": [
    "tables = [i for t in tables for i in t]"
   ]
  },
  {
   "cell_type": "code",
   "execution_count": 424,
   "id": "73215bd8-d3f7-4acb-8898-9f39bc5c7b7e",
   "metadata": {},
   "outputs": [
    {
     "name": "stderr",
     "output_type": "stream",
     "text": [
      "/var/folders/m6/nmg96kbd65n3tz43pzrdnnw00000gn/T/ipykernel_47186/1317449178.py:9: SettingWithCopyWarning: \n",
      "A value is trying to be set on a copy of a slice from a DataFrame.\n",
      "Try using .loc[row_indexer,col_indexer] = value instead\n",
      "\n",
      "See the caveats in the documentation: https://pandas.pydata.org/pandas-docs/stable/user_guide/indexing.html#returning-a-view-versus-a-copy\n",
      "  suitedf['seatType'] = 'suite'\n",
      "/var/folders/m6/nmg96kbd65n3tz43pzrdnnw00000gn/T/ipykernel_47186/1317449178.py:13: SettingWithCopyWarning: \n",
      "A value is trying to be set on a copy of a slice from a DataFrame.\n",
      "Try using .loc[row_indexer,col_indexer] = value instead\n",
      "\n",
      "See the caveats in the documentation: https://pandas.pydata.org/pandas-docs/stable/user_guide/indexing.html#returning-a-view-versus-a-copy\n",
      "  standsdf['seatType'] = 'stands'\n"
     ]
    }
   ],
   "source": [
    "df = pandas.DataFrame(tables, columns=[\n",
    "    'date', 'event',\n",
    "    'suiteRequestor', 'suiteReceiver', 'suiteReason', 'suiteTicketsCount',\n",
    "    'standsRequestor', 'standsReceiver', 'standsReason', 'standsTicketsCount',\n",
    "])\n",
    "\n",
    "suitedf = df[['date', 'event', 'suiteRequestor', 'suiteReceiver', 'suiteReason', 'suiteTicketsCount']]\n",
    "suitedf.columns = ['date', 'event', 'requestor', 'receiver', 'reason', 'ticketsCount']\n",
    "suitedf['seatType'] = 'suite'\n",
    "\n",
    "standsdf = df[['date', 'event', 'standsRequestor', 'standsReceiver', 'standsReason', 'standsTicketsCount']]\n",
    "standsdf.columns = ['date', 'event', 'requestor', 'receiver', 'reason', 'ticketsCount']\n",
    "standsdf['seatType'] = 'stands'\n",
    "\n",
    "df = pandas.concat([suitedf, standsdf])\n",
    "df = df.drop(df[df.date == ''].index)"
   ]
  },
  {
   "cell_type": "code",
   "execution_count": null,
   "id": "ae345fe9-b9e8-4380-9d6c-94cc778f8e1d",
   "metadata": {},
   "outputs": [],
   "source": [
    "# suiteReason: ['', 'Request', 'Donation', 'Economic Impact', 'Request / Donation']\n",
    "# standsReason: ['', 'Request / Donation', 'Donation', 'Donation / Request',\n",
    "       # 'Request', 'Request/Donation', 'Donation / Request /Donation',\n",
    "       # 'Request / Donation / Request /Donation',\n",
    "       # 'Request / Donation / Donation', 'Request / Request / Donation']"
   ]
  },
  {
   "cell_type": "code",
   "execution_count": 437,
   "id": "a7d2bb9b-a983-476d-9931-77613aed9def",
   "metadata": {},
   "outputs": [
    {
     "data": {
      "text/plain": [
       "array(['vid fans not allowed)', '', 'No Fans - Covid', 'Tickets Returned',\n",
       "       'Not Available', 'ovid fans not allowed)',\n",
       "       'Veterans Leadership Program', 'Steve Steingart (8)(Board Member)'],\n",
       "      dtype=object)"
      ]
     },
     "execution_count": 437,
     "metadata": {},
     "output_type": "execute_result"
    }
   ],
   "source": [
    "df[(df.reason == '') & (~df.receiver.str.contains('Unused'))].requestor.unique()"
   ]
  },
  {
   "cell_type": "code",
   "execution_count": 441,
   "id": "3fcd6f55-ebad-480e-a42c-d09c1e508941",
   "metadata": {},
   "outputs": [
    {
     "data": {
      "text/plain": [
       "reason\n",
       "Donation                                  477\n",
       "Request                                   120\n",
       "Request / Donation                         77\n",
       "Economic Impact                            20\n",
       "                                            9\n",
       "Request/Donation                            6\n",
       "Donation / Request /Donation                4\n",
       "Donation / Request                          2\n",
       "Request / Donation / Request /Donation      1\n",
       "Request / Donation / Donation               1\n",
       "Request / Request / Donation                1\n",
       "Name: count, dtype: int64"
      ]
     },
     "execution_count": 441,
     "metadata": {},
     "output_type": "execute_result"
    }
   ],
   "source": [
    "df[~df.receiver.isin([\n",
    "    'No Fans - Covid', 'Not Available', 'Tickets Returned', 'Unused'\n",
    "])].reason.value_counts()"
   ]
  }
 ],
 "metadata": {
  "kernelspec": {
   "display_name": "Python 3 (ipykernel)",
   "language": "python",
   "name": "python3"
  },
  "language_info": {
   "codemirror_mode": {
    "name": "ipython",
    "version": 3
   },
   "file_extension": ".py",
   "mimetype": "text/x-python",
   "name": "python",
   "nbconvert_exporter": "python",
   "pygments_lexer": "ipython3",
   "version": "3.9.17"
  }
 },
 "nbformat": 4,
 "nbformat_minor": 5
}
