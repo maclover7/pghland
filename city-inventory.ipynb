{
 "cells": [
  {
   "cell_type": "markdown",
   "id": "f343f9d0-f9fa-45cc-a02f-d97e323f90c2",
   "metadata": {},
   "source": [
    "# Analyze city property inventory"
   ]
  },
  {
   "cell_type": "code",
   "execution_count": 1,
   "id": "e82402c1-e98c-4d9e-98dd-bca921551521",
   "metadata": {},
   "outputs": [],
   "source": [
    "from sqlalchemy import create_engine\n",
    "import pandas as pd"
   ]
  },
  {
   "cell_type": "code",
   "execution_count": 2,
   "id": "c6814260-16d3-45f9-a968-745e364460b8",
   "metadata": {},
   "outputs": [],
   "source": [
    "DB = create_engine('postgresql://jon@localhost:5432/propertydb')"
   ]
  },
  {
   "cell_type": "markdown",
   "id": "aab8d22a-6699-4420-897f-1c1cbefb189a",
   "metadata": {},
   "source": [
    "### Statistics by `parceltype`"
   ]
  },
  {
   "cell_type": "code",
   "execution_count": 3,
   "id": "8d4f3528-78b4-4716-a14f-0e66b93e237a",
   "metadata": {},
   "outputs": [
    {
     "data": {
      "text/html": [
       "<div>\n",
       "<style scoped>\n",
       "    .dataframe tbody tr th:only-of-type {\n",
       "        vertical-align: middle;\n",
       "    }\n",
       "\n",
       "    .dataframe tbody tr th {\n",
       "        vertical-align: top;\n",
       "    }\n",
       "\n",
       "    .dataframe thead th {\n",
       "        text-align: right;\n",
       "    }\n",
       "</style>\n",
       "<table border=\"1\" class=\"dataframe\">\n",
       "  <thead>\n",
       "    <tr style=\"text-align: right;\">\n",
       "      <th></th>\n",
       "      <th>count</th>\n",
       "      <th>lotarea</th>\n",
       "      <th>pct_city</th>\n",
       "      <th>mult_schenley</th>\n",
       "    </tr>\n",
       "    <tr>\n",
       "      <th>parceltype</th>\n",
       "      <th></th>\n",
       "      <th></th>\n",
       "      <th></th>\n",
       "      <th></th>\n",
       "    </tr>\n",
       "  </thead>\n",
       "  <tbody>\n",
       "    <tr>\n",
       "      <th>PLB Transfer</th>\n",
       "      <td>3</td>\n",
       "      <td>0.225367</td>\n",
       "      <td>0.000680</td>\n",
       "      <td>0.000494</td>\n",
       "    </tr>\n",
       "    <tr>\n",
       "      <th>Unknown Public Use</th>\n",
       "      <td>10</td>\n",
       "      <td>0.529982</td>\n",
       "      <td>0.001598</td>\n",
       "      <td>0.001162</td>\n",
       "    </tr>\n",
       "    <tr>\n",
       "      <th>Unknown</th>\n",
       "      <td>180</td>\n",
       "      <td>83.621671</td>\n",
       "      <td>0.252162</td>\n",
       "      <td>0.183381</td>\n",
       "    </tr>\n",
       "    <tr>\n",
       "      <th>CDC Property Reserve</th>\n",
       "      <td>192</td>\n",
       "      <td>11.389555</td>\n",
       "      <td>0.034345</td>\n",
       "      <td>0.024977</td>\n",
       "    </tr>\n",
       "    <tr>\n",
       "      <th>PCO</th>\n",
       "      <td>2240</td>\n",
       "      <td>2287.426102</td>\n",
       "      <td>6.897765</td>\n",
       "      <td>5.016285</td>\n",
       "    </tr>\n",
       "    <tr>\n",
       "      <th>Public Sale</th>\n",
       "      <td>2712</td>\n",
       "      <td>225.179522</td>\n",
       "      <td>0.679032</td>\n",
       "      <td>0.493815</td>\n",
       "    </tr>\n",
       "    <tr>\n",
       "      <th>URA Transfer</th>\n",
       "      <td>2815</td>\n",
       "      <td>200.797153</td>\n",
       "      <td>0.605507</td>\n",
       "      <td>0.440345</td>\n",
       "    </tr>\n",
       "    <tr>\n",
       "      <th>Hold For Study</th>\n",
       "      <td>4991</td>\n",
       "      <td>2748.636042</td>\n",
       "      <td>8.288550</td>\n",
       "      <td>6.027711</td>\n",
       "    </tr>\n",
       "  </tbody>\n",
       "</table>\n",
       "</div>"
      ],
      "text/plain": [
       "                      count      lotarea  pct_city  mult_schenley\n",
       "parceltype                                                       \n",
       "PLB Transfer              3     0.225367  0.000680       0.000494\n",
       "Unknown Public Use       10     0.529982  0.001598       0.001162\n",
       "Unknown                 180    83.621671  0.252162       0.183381\n",
       "CDC Property Reserve    192    11.389555  0.034345       0.024977\n",
       "PCO                    2240  2287.426102  6.897765       5.016285\n",
       "Public Sale            2712   225.179522  0.679032       0.493815\n",
       "URA Transfer           2815   200.797153  0.605507       0.440345\n",
       "Hold For Study         4991  2748.636042  8.288550       6.027711"
      ]
     },
     "execution_count": 3,
     "metadata": {},
     "output_type": "execute_result"
    }
   ],
   "source": [
    "propertiespt = pd.read_sql_query(\"\"\"SELECT parceltype, COUNT(DISTINCT parceleproppgh.parcelid), SUM(lotarea::int) AS lotarea\n",
    "FROM parceleproppgh\n",
    "JOIN assessments\n",
    "ON assessments.parcelid = parceleproppgh.parcelid\n",
    "--WHERE parcelstatus = 'Available for Sale'\n",
    "GROUP BY parceltype\n",
    "ORDER BY count DESC;\"\"\", DB)\n",
    "\n",
    "# Merge permanent city ownership parcel types\n",
    "propertiespt.loc[propertiespt.parceltype.isin([\n",
    "    'Greenway', 'Park', 'Infrastructure Protection', 'City Facility', 'Other Public Use'\n",
    "]), 'parceltype'] = 'PCO'\n",
    "propertiespt = propertiespt.groupby(propertiespt.parceltype).aggregate({ 'count': 'sum', 'lotarea': 'sum' }).sort_values(by='count')\n",
    "\n",
    "# Convert lot area to acres\n",
    "propertiespt['lotarea'] = propertiespt.lotarea / 43560\n",
    "\n",
    "# Percent of city neighborhood acreage per parcel type\n",
    "propertiespt['pct_city'] = 100 * (propertiespt.lotarea / 33161.843)\n",
    "\n",
    "# Multiple of Schenley Park (somewhat recognizable comparison)\n",
    "propertiespt['mult_schenley'] = propertiespt.lotarea / 456\n",
    "\n",
    "propertiespt"
   ]
  }
 ],
 "metadata": {
  "kernelspec": {
   "display_name": "Python 3 (ipykernel)",
   "language": "python",
   "name": "python3"
  },
  "language_info": {
   "codemirror_mode": {
    "name": "ipython",
    "version": 3
   },
   "file_extension": ".py",
   "mimetype": "text/x-python",
   "name": "python",
   "nbconvert_exporter": "python",
   "pygments_lexer": "ipython3",
   "version": "3.9.17"
  }
 },
 "nbformat": 4,
 "nbformat_minor": 5
}
