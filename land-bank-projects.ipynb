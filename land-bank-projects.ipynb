{
 "cells": [
  {
   "cell_type": "code",
   "execution_count": 1,
   "id": "b85ecee1-4f0a-43fe-b325-bbaf2724c095",
   "metadata": {},
   "outputs": [],
   "source": [
    "import requests\n",
    "import pandas as pd"
   ]
  },
  {
   "cell_type": "code",
   "execution_count": null,
   "id": "7bc371c3-2d11-443c-9a34-ed437fb6ddc8",
   "metadata": {},
   "outputs": [],
   "source": [
    "# https://services1.arcgis.com/0DMNBNaacQNEfN4H/ArcGIS/rest/services/PLB_First_Traunch/FeatureServer/0\n",
    "# https://services1.arcgis.com/0DMNBNaacQNEfN4H/ArcGIS/rest/services/PLBstrategicAcquisitionsPoints/FeatureServer/0"
   ]
  },
  {
   "cell_type": "code",
   "execution_count": 3,
   "id": "1585e688-5c27-4cc6-8398-e4c75721992a",
   "metadata": {},
   "outputs": [],
   "source": [
    "layer = requests.get('https://services1.arcgis.com/0DMNBNaacQNEfN4H/ArcGIS/rest/services/PLBstrategicAcquisition/FeatureServer/1/query?where=1%3D1&objectIds=&time=&geometry=&geometryType=esriGeometryEnvelope&inSR=&spatialRel=esriSpatialRelIntersects&resultType=none&distance=0.0&units=esriSRUnit_Meter&relationParam=&returnGeodetic=false&outFields=*&returnGeometry=false&returnCentroid=false&featureEncoding=esriDefault&multipatchOption=xyFootprint&maxAllowableOffset=&geometryPrecision=&outSR=&defaultSR=&datumTransformation=&applyVCSProjection=false&returnIdsOnly=false&returnUniqueIdsOnly=false&returnCountOnly=false&returnExtentOnly=false&returnQueryGeometry=false&returnDistinctValues=false&cacheHint=false&orderByFields=&groupByFieldsForStatistics=&outStatistics=&having=&resultOffset=&resultRecordCount=&returnZ=false&returnM=false&returnExceededLimitFeatures=true&quantizationParameters=&sqlFormat=none&f=pjson&token=')\n",
    "layer = layer.json()"
   ]
  },
  {
   "cell_type": "code",
   "execution_count": 11,
   "id": "15033a72-e4b5-4ff5-b1db-3668c322f234",
   "metadata": {},
   "outputs": [],
   "source": [
    "df = pd.DataFrame(\n",
    "    list(map(lambda f: f['attributes'], layer['features'])),\n",
    "    columns=list(map(lambda l: l['name'], layer['fields']))\n",
    ")"
   ]
  },
  {
   "cell_type": "code",
   "execution_count": 44,
   "id": "570d1ff6-b9ab-46f7-9829-0dc937904e89",
   "metadata": {},
   "outputs": [],
   "source": [
    "df['Class'] = df.Class.str.strip()\n",
    "df.loc[df.Class == 'Vacant Stucture', 'Class'] = 'Vacant Structure'\n",
    "df.loc[df.Class == 'Vacant Structue', 'Class'] = 'Vacant Structure'"
   ]
  },
  {
   "cell_type": "code",
   "execution_count": 15,
   "id": "548730ce-e027-446d-a0bd-0392a5c75534",
   "metadata": {},
   "outputs": [
    {
     "data": {
      "text/plain": [
       "Index(['OBJECTID_1', 'OBJECTID', 'PIN', 'MAPBLOCKLO', 'MUNICODE', 'CALCACREAG',\n",
       "       'NOTES', 'PSEUDONO', 'COMMENTS', 'GlobalID', 'Shape_Leng', 'Class',\n",
       "       'Parcel', 'Address', 'Neighborhood', 'Project_Name', 'Buyer', 'Partner',\n",
       "       'Council_District', 'Status', 'Shape__Area', 'Shape__Length'],\n",
       "      dtype='object')"
      ]
     },
     "execution_count": 15,
     "metadata": {},
     "output_type": "execute_result"
    }
   ],
   "source": [
    "df.columns"
   ]
  },
  {
   "cell_type": "code",
   "execution_count": 18,
   "id": "ce550f86-af50-4e40-b30d-0ea48e56bab1",
   "metadata": {},
   "outputs": [
    {
     "data": {
      "text/plain": [
       "array(['August 2022 T Sale', 'URA > PLB Transfer',\n",
       "       'Conservatorship Cases', 'First PLB City Concurrence Memo',\n",
       "       '2023 PLB City Concurrence Memo', 'Mid City process PLB transfer'],\n",
       "      dtype=object)"
      ]
     },
     "execution_count": 18,
     "metadata": {},
     "output_type": "execute_result"
    }
   ],
   "source": [
    "df.Status.unique()"
   ]
  },
  {
   "cell_type": "code",
   "execution_count": 45,
   "id": "648e4cdc-0848-4097-9c78-e483d5db4407",
   "metadata": {},
   "outputs": [
    {
     "data": {
      "text/plain": [
       "array([None, 'Vacant Structure', 'Vacant Land'], dtype=object)"
      ]
     },
     "execution_count": 45,
     "metadata": {},
     "output_type": "execute_result"
    }
   ],
   "source": [
    "df.Class.unique()"
   ]
  },
  {
   "cell_type": "code",
   "execution_count": 51,
   "id": "4fce225c-ca83-40e7-ac27-8efcdea06118",
   "metadata": {},
   "outputs": [],
   "source": [
    "# df.Buyer.value_counts()"
   ]
  },
  {
   "cell_type": "code",
   "execution_count": 30,
   "id": "e87d873e-5737-4efd-a4c2-cdb6bd3490ef",
   "metadata": {},
   "outputs": [
    {
     "data": {
      "text/plain": [
       "array(['45-M-114', '14-R-230', '50-G-45', '23-K-300', '50-K-257',\n",
       "       '50-M-167', '50-G-112', '50-G-53', '14-R-238', '50-G-55',\n",
       "       '50-G-46', '50-G-128', '23-K-298', '23-K-299'], dtype=object)"
      ]
     },
     "execution_count": 30,
     "metadata": {},
     "output_type": "execute_result"
    }
   ],
   "source": [
    "df[df.Status == 'First PLB City Concurrence Memo'].MAPBLOCKLO.unique()"
   ]
  },
  {
   "cell_type": "code",
   "execution_count": 34,
   "id": "a66b02c0-f8d9-4057-b0d8-8fae11ad12e5",
   "metadata": {},
   "outputs": [
    {
     "data": {
      "text/plain": [
       "array(['0056C00226000000', '0056C00229000000', '0056C00227000000',\n",
       "       '0056C00224000000', '0056C00230000000', '0056C00228000000'],\n",
       "      dtype=object)"
      ]
     },
     "execution_count": 34,
     "metadata": {},
     "output_type": "execute_result"
    }
   ],
   "source": [
    "df[df.Status == 'Mid City process PLB transfer'].PIN.unique()"
   ]
  }
 ],
 "metadata": {
  "kernelspec": {
   "display_name": "Python 3 (ipykernel)",
   "language": "python",
   "name": "python3"
  },
  "language_info": {
   "codemirror_mode": {
    "name": "ipython",
    "version": 3
   },
   "file_extension": ".py",
   "mimetype": "text/x-python",
   "name": "python",
   "nbconvert_exporter": "python",
   "pygments_lexer": "ipython3",
   "version": "3.9.17"
  }
 },
 "nbformat": 4,
 "nbformat_minor": 5
}
