{
 "cells": [
  {
   "cell_type": "markdown",
   "id": "d09a08df-018a-4eac-8516-70f738532687",
   "metadata": {},
   "source": [
    "### Analyze residential delinquencies in Pittsburgh"
   ]
  },
  {
   "cell_type": "code",
   "execution_count": 1,
   "id": "de9fdd2d-d673-4c47-af7d-9f7f9c92a61c",
   "metadata": {},
   "outputs": [],
   "source": [
    "from sqlalchemy import create_engine\n",
    "import pandas as pd"
   ]
  },
  {
   "cell_type": "code",
   "execution_count": 2,
   "id": "eea18795-8145-4ca2-839c-0e67f359af34",
   "metadata": {},
   "outputs": [],
   "source": [
    "CONDITIONDESC_RANKINGS = ['EXCELLENT', 'GOOD', 'AVERAGE', 'FAIR', 'POOR', 'UNSOUND', 'VERY POOR']\n",
    "DB = create_engine('postgresql://jon@localhost:5432/propertydb')"
   ]
  },
  {
   "cell_type": "markdown",
   "id": "2acfe5bd-aae9-439a-b850-cb08bc360d02",
   "metadata": {},
   "source": [
    "### Run SQL query"
   ]
  },
  {
   "cell_type": "code",
   "execution_count": 3,
   "id": "bf3c2675-1a4a-469d-aa8f-a4c4cf0093a2",
   "metadata": {},
   "outputs": [],
   "source": [
    "properties = pd.read_sql_query(\"\"\"SELECT usedesc, conditiondesc, COUNT(DISTINCT assessments.parcelid)\n",
    "FROM assessments\n",
    "\n",
    "JOIN parcelliens\n",
    "ON parcelliens.parcelid = assessments.parcelid\n",
    "\n",
    "JOIN parceldelinquenciespgh\n",
    "ON parceldelinquenciespgh.parcelid = assessments.parcelid\n",
    "\n",
    "JOIN parcelviolationspgh\n",
    "ON parcelviolationspgh.parcelid = assessments.parcelid\n",
    "\n",
    "WHERE assessments.municode::int < 200\n",
    "AND assessments.class = 'R'\n",
    "AND assessments.usedesc NOT IN ('VACANT LAND', 'RES AUX BUILDING (NO HOUSE)')\n",
    "AND assessments.changenoticeaddress1 NOT LIKE '%%414%%GRANT%%ST%%'\n",
    "\n",
    "AND parceldelinquenciespgh.prioryears::int >= 5\n",
    "\n",
    "AND parcelviolationspgh.desc LIKE '%%VACANT%%'\n",
    "AND parcelviolationspgh.outcome IN ('CONTINUE TO COURT', 'FOLLOW-UP INVESTIGATION SCHEDULED', 'ISSUE CRIMINAL COMPLAINT', 'REFER TO CLEANUP', 'SEND TO CLEAN & LIEN', 'VIOLATION FOUND')\n",
    "\n",
    "GROUP BY usedesc, conditiondesc\n",
    "ORDER BY usedesc, conditiondesc, count DESC;\"\"\", DB)"
   ]
  },
  {
   "cell_type": "markdown",
   "id": "1624f2a7-b15f-4ce7-b3e1-b0aab45ca228",
   "metadata": {},
   "source": [
    "### Create pivot table by property use, condition"
   ]
  },
  {
   "cell_type": "code",
   "execution_count": 4,
   "id": "91509ee1-fa1e-4d3d-bbf0-e4203c108dd4",
   "metadata": {},
   "outputs": [],
   "source": [
    "propertiespiv = pd.pivot_table(properties, index='usedesc', columns='conditiondesc', values='count', aggfunc=sum)"
   ]
  },
  {
   "cell_type": "code",
   "execution_count": 5,
   "id": "ce44027a-1de6-4286-a2d9-41a091c3317b",
   "metadata": {},
   "outputs": [],
   "source": [
    "for ranking in CONDITIONDESC_RANKINGS:\n",
    "    if ranking not in propertiespiv:\n",
    "        propertiespiv[ranking] = 0\n",
    "    propertiespiv[ranking] = propertiespiv[ranking].fillna(0)\n",
    "\n",
    "propertiespiv = propertiespiv[CONDITIONDESC_RANKINGS]"
   ]
  },
  {
   "cell_type": "markdown",
   "id": "a17d2a30-3294-4a9e-883f-58652225a594",
   "metadata": {},
   "source": [
    "### Output properties to CSV file"
   ]
  },
  {
   "cell_type": "code",
   "execution_count": 6,
   "id": "c01d3237-bd50-4bfd-9a1c-9e4f9f01a877",
   "metadata": {},
   "outputs": [],
   "source": [
    "propertiespiv.to_csv('output/residential-delinquencies.csv')"
   ]
  }
 ],
 "metadata": {
  "kernelspec": {
   "display_name": "Python 3 (ipykernel)",
   "language": "python",
   "name": "python3"
  },
  "language_info": {
   "codemirror_mode": {
    "name": "ipython",
    "version": 3
   },
   "file_extension": ".py",
   "mimetype": "text/x-python",
   "name": "python",
   "nbconvert_exporter": "python",
   "pygments_lexer": "ipython3",
   "version": "3.9.17"
  }
 },
 "nbformat": 4,
 "nbformat_minor": 5
}
