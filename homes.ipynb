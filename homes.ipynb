{
 "cells": [
  {
   "cell_type": "markdown",
   "id": "d09a08df-018a-4eac-8516-70f738532687",
   "metadata": {},
   "source": [
    "# Analyze homes in Pittsburgh"
   ]
  },
  {
   "cell_type": "code",
   "execution_count": 1,
   "id": "de9fdd2d-d673-4c47-af7d-9f7f9c92a61c",
   "metadata": {},
   "outputs": [],
   "source": [
    "from sqlalchemy import create_engine\n",
    "import pandas as pd"
   ]
  },
  {
   "cell_type": "code",
   "execution_count": 2,
   "id": "eea18795-8145-4ca2-839c-0e67f359af34",
   "metadata": {},
   "outputs": [],
   "source": [
    "CONDITIONDESC_RANKINGS = ['EXCELLENT', 'GOOD', 'AVERAGE', 'FAIR', 'POOR', 'UNSOUND', 'VERY POOR']\n",
    "DB = create_engine('postgresql://jon@localhost:5432/propertydb')"
   ]
  },
  {
   "cell_type": "code",
   "execution_count": 3,
   "id": "4af3334b-71c5-4e0b-b32f-f0a209cbd833",
   "metadata": {},
   "outputs": [],
   "source": [
    "def pivot_properties(properties):\n",
    "    propertiespiv = pd.pivot_table(properties, index=['usecode', 'usedesc'], columns='conditiondesc', values='count', aggfunc=sum)\n",
    "\n",
    "    for ranking in CONDITIONDESC_RANKINGS:\n",
    "        if ranking not in propertiespiv:\n",
    "            propertiespiv[ranking] = 0\n",
    "        propertiespiv[ranking] = propertiespiv[ranking].fillna(0)\n",
    "\n",
    "    propertiespiv = propertiespiv[CONDITIONDESC_RANKINGS]\n",
    "\n",
    "    propertiespiv = propertiespiv.reset_index()\n",
    "    propertiespiv = propertiespiv.set_index('usedesc')\n",
    "    propertiespiv = propertiespiv.drop('usecode', axis=1)\n",
    "\n",
    "    # Format capitalization for public display\n",
    "    propertiespiv.columns = propertiespiv.columns.str.lower()\n",
    "    propertiespiv.columns = propertiespiv.columns.str.capitalize()\n",
    "    \n",
    "    propertiespiv.index = propertiespiv.index.str.lower()\n",
    "    propertiespiv.index = propertiespiv.index.str.capitalize()\n",
    "\n",
    "    return propertiespiv"
   ]
  },
  {
   "cell_type": "markdown",
   "id": "f43d6452-e2e7-44a7-ad14-e09a4f53ff62",
   "metadata": {},
   "source": [
    "### Residential delinquencies"
   ]
  },
  {
   "cell_type": "markdown",
   "id": "ccde14d7-c6cf-4ee4-904e-5c25880f494f",
   "metadata": {},
   "source": [
    "##### Methodology"
   ]
  },
  {
   "cell_type": "raw",
   "id": "e5172dfc-ef34-490f-88a8-d3332cc5d8a0",
   "metadata": {},
   "source": [
    "The goal is to determine parcels that the Pittsburgh Land Bank may seek to acquire through a tax sale run by the Allegheny County Sheriff, which must meet the following Union Progress criteria that are not meant to be comprehensive but instead a rough estimate:\n",
    "\n",
    "--> At least one lien (required to trigger sale)\n",
    "--> Within Pittsburgh city limits\n",
    "--> Residential parcel\n",
    "--> Not vacant land, nor an auxiliary residential building (most often a detached parking garage)\n",
    "--> Not already owned by Pittsburgh (414 Grant Street, the City-County Building, used as proxy)\n",
    "--> Five or more years behind on Pittsburgh taxes\n",
    "--> At least one violation from Pittsburgh that includes classification as vacant\n",
    "--> Such violation must be put through the disposition process (ex: criminal complaint issued)"
   ]
  },
  {
   "cell_type": "markdown",
   "id": "2acfe5bd-aae9-439a-b850-cb08bc360d02",
   "metadata": {},
   "source": [
    "##### Run SQL query"
   ]
  },
  {
   "cell_type": "code",
   "execution_count": 4,
   "id": "bf3c2675-1a4a-469d-aa8f-a4c4cf0093a2",
   "metadata": {},
   "outputs": [],
   "source": [
    "properties = pd.read_sql_query(\"\"\"SELECT usecode, usedesc, conditiondesc, COUNT(DISTINCT assessments.parcelid)\n",
    "FROM assessments\n",
    "\n",
    "JOIN parcelliens\n",
    "ON parcelliens.parcelid = assessments.parcelid\n",
    "\n",
    "JOIN parceldelinquenciespgh\n",
    "ON parceldelinquenciespgh.parcelid = assessments.parcelid\n",
    "\n",
    "JOIN parcelviolationspgh\n",
    "ON parcelviolationspgh.parcelid = assessments.parcelid\n",
    "\n",
    "WHERE assessments.municode::int < 200\n",
    "AND assessments.class = 'R'\n",
    "AND assessments.usedesc NOT IN ('VACANT LAND', 'RES AUX BUILDING (NO HOUSE)')\n",
    "AND assessments.changenoticeaddress1 NOT LIKE '%%414%%GRANT%%ST%%'\n",
    "\n",
    "AND parceldelinquenciespgh.prioryears::int >= 5\n",
    "\n",
    "AND parcelviolationspgh.desc LIKE '%%VACANT%%'\n",
    "AND parcelviolationspgh.outcome IN ('CONTINUE TO COURT', 'FOLLOW-UP INVESTIGATION SCHEDULED', 'ISSUE CRIMINAL COMPLAINT', 'REFER TO CLEANUP', 'SEND TO CLEAN & LIEN', 'VIOLATION FOUND')\n",
    "\n",
    "GROUP BY usecode, usedesc, conditiondesc\n",
    "ORDER BY usecode ASC;\"\"\", DB)"
   ]
  },
  {
   "cell_type": "markdown",
   "id": "1624f2a7-b15f-4ce7-b3e1-b0aab45ca228",
   "metadata": {},
   "source": [
    "##### Create pivot table by property use, condition"
   ]
  },
  {
   "cell_type": "code",
   "execution_count": 5,
   "id": "e7f248b5-dcd6-40e5-abd7-f27891359910",
   "metadata": {},
   "outputs": [
    {
     "data": {
      "text/html": [
       "<div>\n",
       "<style scoped>\n",
       "    .dataframe tbody tr th:only-of-type {\n",
       "        vertical-align: middle;\n",
       "    }\n",
       "\n",
       "    .dataframe tbody tr th {\n",
       "        vertical-align: top;\n",
       "    }\n",
       "\n",
       "    .dataframe thead th {\n",
       "        text-align: right;\n",
       "    }\n",
       "</style>\n",
       "<table border=\"1\" class=\"dataframe\">\n",
       "  <thead>\n",
       "    <tr style=\"text-align: right;\">\n",
       "      <th>conditiondesc</th>\n",
       "      <th>Excellent</th>\n",
       "      <th>Good</th>\n",
       "      <th>Average</th>\n",
       "      <th>Fair</th>\n",
       "      <th>Poor</th>\n",
       "      <th>Unsound</th>\n",
       "      <th>Very poor</th>\n",
       "    </tr>\n",
       "    <tr>\n",
       "      <th>usedesc</th>\n",
       "      <th></th>\n",
       "      <th></th>\n",
       "      <th></th>\n",
       "      <th></th>\n",
       "      <th></th>\n",
       "      <th></th>\n",
       "      <th></th>\n",
       "    </tr>\n",
       "  </thead>\n",
       "  <tbody>\n",
       "    <tr>\n",
       "      <th>Single family</th>\n",
       "      <td>0</td>\n",
       "      <td>0</td>\n",
       "      <td>147.0</td>\n",
       "      <td>182.0</td>\n",
       "      <td>48.0</td>\n",
       "      <td>20.0</td>\n",
       "      <td>11.0</td>\n",
       "    </tr>\n",
       "    <tr>\n",
       "      <th>Two family</th>\n",
       "      <td>0</td>\n",
       "      <td>0</td>\n",
       "      <td>10.0</td>\n",
       "      <td>11.0</td>\n",
       "      <td>3.0</td>\n",
       "      <td>2.0</td>\n",
       "      <td>1.0</td>\n",
       "    </tr>\n",
       "    <tr>\n",
       "      <th>Three family</th>\n",
       "      <td>0</td>\n",
       "      <td>0</td>\n",
       "      <td>1.0</td>\n",
       "      <td>5.0</td>\n",
       "      <td>0.0</td>\n",
       "      <td>0.0</td>\n",
       "      <td>0.0</td>\n",
       "    </tr>\n",
       "    <tr>\n",
       "      <th>Four family</th>\n",
       "      <td>0</td>\n",
       "      <td>0</td>\n",
       "      <td>0.0</td>\n",
       "      <td>1.0</td>\n",
       "      <td>0.0</td>\n",
       "      <td>0.0</td>\n",
       "      <td>0.0</td>\n",
       "    </tr>\n",
       "    <tr>\n",
       "      <th>Townhouse</th>\n",
       "      <td>0</td>\n",
       "      <td>0</td>\n",
       "      <td>3.0</td>\n",
       "      <td>0.0</td>\n",
       "      <td>0.0</td>\n",
       "      <td>0.0</td>\n",
       "      <td>0.0</td>\n",
       "    </tr>\n",
       "    <tr>\n",
       "      <th>Rowhouse</th>\n",
       "      <td>0</td>\n",
       "      <td>0</td>\n",
       "      <td>9.0</td>\n",
       "      <td>24.0</td>\n",
       "      <td>7.0</td>\n",
       "      <td>5.0</td>\n",
       "      <td>1.0</td>\n",
       "    </tr>\n",
       "    <tr>\n",
       "      <th>Mobile home</th>\n",
       "      <td>0</td>\n",
       "      <td>0</td>\n",
       "      <td>0.0</td>\n",
       "      <td>0.0</td>\n",
       "      <td>1.0</td>\n",
       "      <td>0.0</td>\n",
       "      <td>0.0</td>\n",
       "    </tr>\n",
       "  </tbody>\n",
       "</table>\n",
       "</div>"
      ],
      "text/plain": [
       "conditiondesc  Excellent  Good  Average   Fair  Poor  Unsound  Very poor\n",
       "usedesc                                                                 \n",
       "Single family          0     0    147.0  182.0  48.0     20.0       11.0\n",
       "Two family             0     0     10.0   11.0   3.0      2.0        1.0\n",
       "Three family           0     0      1.0    5.0   0.0      0.0        0.0\n",
       "Four family            0     0      0.0    1.0   0.0      0.0        0.0\n",
       "Townhouse              0     0      3.0    0.0   0.0      0.0        0.0\n",
       "Rowhouse               0     0      9.0   24.0   7.0      5.0        1.0\n",
       "Mobile home            0     0      0.0    0.0   1.0      0.0        0.0"
      ]
     },
     "execution_count": 5,
     "metadata": {},
     "output_type": "execute_result"
    }
   ],
   "source": [
    "propertiespiv = pivot_properties(properties)\n",
    "propertiespiv"
   ]
  },
  {
   "cell_type": "code",
   "execution_count": 6,
   "id": "871d2a8f-f539-4b78-9fd5-9298aae99852",
   "metadata": {},
   "outputs": [
    {
     "data": {
      "text/plain": [
       "492.0"
      ]
     },
     "execution_count": 6,
     "metadata": {},
     "output_type": "execute_result"
    }
   ],
   "source": [
    "propertiespiv.sum().sum()"
   ]
  },
  {
   "cell_type": "markdown",
   "id": "a17d2a30-3294-4a9e-883f-58652225a594",
   "metadata": {},
   "source": [
    "##### Output properties to CSV file"
   ]
  },
  {
   "cell_type": "code",
   "execution_count": 7,
   "id": "c01d3237-bd50-4bfd-9a1c-9e4f9f01a877",
   "metadata": {},
   "outputs": [],
   "source": [
    "propertiespiv.to_csv('output/residential-delinquencies.csv')"
   ]
  },
  {
   "cell_type": "markdown",
   "id": "5daa1e87-a677-41e9-8e4a-06fb26335b01",
   "metadata": {},
   "source": [
    "### City-owned residential"
   ]
  },
  {
   "cell_type": "markdown",
   "id": "fc33cf1a-8fcf-4523-ae5e-68f35aa90426",
   "metadata": {},
   "source": [
    "##### Run SQL query"
   ]
  },
  {
   "cell_type": "code",
   "execution_count": 8,
   "id": "ae0273cd-b542-44cf-935c-f46421e1b8d1",
   "metadata": {},
   "outputs": [],
   "source": [
    "properties = pd.read_sql_query(\"\"\"SELECT usecode, usedesc, conditiondesc, COUNT(DISTINCT assessments.parcelid)\n",
    "FROM assessments\n",
    "\n",
    "WHERE assessments.municode::int < 200\n",
    "AND assessments.class = 'R'\n",
    "AND assessments.usedesc NOT IN ('VACANT LAND', 'RES AUX BUILDING (NO HOUSE)')\n",
    "AND assessments.changenoticeaddress1 LIKE '%%414%%GRANT%%ST%%'\n",
    "\n",
    "GROUP BY usecode, usedesc, conditiondesc\n",
    "ORDER BY usecode ASC;\"\"\", DB)"
   ]
  },
  {
   "cell_type": "markdown",
   "id": "96c99b40-b1d4-4a3d-be2e-3702db7f5584",
   "metadata": {},
   "source": [
    "##### Create pivot table by property use, condition"
   ]
  },
  {
   "cell_type": "code",
   "execution_count": 9,
   "id": "c1a23e99-a19f-4e12-a6c5-ae6450d5b334",
   "metadata": {},
   "outputs": [
    {
     "data": {
      "text/html": [
       "<div>\n",
       "<style scoped>\n",
       "    .dataframe tbody tr th:only-of-type {\n",
       "        vertical-align: middle;\n",
       "    }\n",
       "\n",
       "    .dataframe tbody tr th {\n",
       "        vertical-align: top;\n",
       "    }\n",
       "\n",
       "    .dataframe thead th {\n",
       "        text-align: right;\n",
       "    }\n",
       "</style>\n",
       "<table border=\"1\" class=\"dataframe\">\n",
       "  <thead>\n",
       "    <tr style=\"text-align: right;\">\n",
       "      <th>conditiondesc</th>\n",
       "      <th>Excellent</th>\n",
       "      <th>Good</th>\n",
       "      <th>Average</th>\n",
       "      <th>Fair</th>\n",
       "      <th>Poor</th>\n",
       "      <th>Unsound</th>\n",
       "      <th>Very poor</th>\n",
       "    </tr>\n",
       "    <tr>\n",
       "      <th>usedesc</th>\n",
       "      <th></th>\n",
       "      <th></th>\n",
       "      <th></th>\n",
       "      <th></th>\n",
       "      <th></th>\n",
       "      <th></th>\n",
       "      <th></th>\n",
       "    </tr>\n",
       "  </thead>\n",
       "  <tbody>\n",
       "    <tr>\n",
       "      <th>Single family</th>\n",
       "      <td>0</td>\n",
       "      <td>1.0</td>\n",
       "      <td>68.0</td>\n",
       "      <td>167.0</td>\n",
       "      <td>66.0</td>\n",
       "      <td>35.0</td>\n",
       "      <td>20.0</td>\n",
       "    </tr>\n",
       "    <tr>\n",
       "      <th>Two family</th>\n",
       "      <td>0</td>\n",
       "      <td>0.0</td>\n",
       "      <td>5.0</td>\n",
       "      <td>18.0</td>\n",
       "      <td>7.0</td>\n",
       "      <td>6.0</td>\n",
       "      <td>1.0</td>\n",
       "    </tr>\n",
       "    <tr>\n",
       "      <th>Three family</th>\n",
       "      <td>0</td>\n",
       "      <td>0.0</td>\n",
       "      <td>2.0</td>\n",
       "      <td>5.0</td>\n",
       "      <td>3.0</td>\n",
       "      <td>0.0</td>\n",
       "      <td>0.0</td>\n",
       "    </tr>\n",
       "    <tr>\n",
       "      <th>Townhouse</th>\n",
       "      <td>0</td>\n",
       "      <td>0.0</td>\n",
       "      <td>2.0</td>\n",
       "      <td>0.0</td>\n",
       "      <td>0.0</td>\n",
       "      <td>0.0</td>\n",
       "      <td>0.0</td>\n",
       "    </tr>\n",
       "    <tr>\n",
       "      <th>Rowhouse</th>\n",
       "      <td>0</td>\n",
       "      <td>0.0</td>\n",
       "      <td>13.0</td>\n",
       "      <td>49.0</td>\n",
       "      <td>15.0</td>\n",
       "      <td>16.0</td>\n",
       "      <td>2.0</td>\n",
       "    </tr>\n",
       "    <tr>\n",
       "      <th>Condemned/boarded-up</th>\n",
       "      <td>0</td>\n",
       "      <td>0.0</td>\n",
       "      <td>0.0</td>\n",
       "      <td>0.0</td>\n",
       "      <td>0.0</td>\n",
       "      <td>2.0</td>\n",
       "      <td>0.0</td>\n",
       "    </tr>\n",
       "  </tbody>\n",
       "</table>\n",
       "</div>"
      ],
      "text/plain": [
       "conditiondesc         Excellent  Good  Average   Fair  Poor  Unsound  \\\n",
       "usedesc                                                                \n",
       "Single family                 0   1.0     68.0  167.0  66.0     35.0   \n",
       "Two family                    0   0.0      5.0   18.0   7.0      6.0   \n",
       "Three family                  0   0.0      2.0    5.0   3.0      0.0   \n",
       "Townhouse                     0   0.0      2.0    0.0   0.0      0.0   \n",
       "Rowhouse                      0   0.0     13.0   49.0  15.0     16.0   \n",
       "Condemned/boarded-up          0   0.0      0.0    0.0   0.0      2.0   \n",
       "\n",
       "conditiondesc         Very poor  \n",
       "usedesc                          \n",
       "Single family              20.0  \n",
       "Two family                  1.0  \n",
       "Three family                0.0  \n",
       "Townhouse                   0.0  \n",
       "Rowhouse                    2.0  \n",
       "Condemned/boarded-up        0.0  "
      ]
     },
     "execution_count": 9,
     "metadata": {},
     "output_type": "execute_result"
    }
   ],
   "source": [
    "propertiespiv = pivot_properties(properties)\n",
    "propertiespiv"
   ]
  },
  {
   "cell_type": "code",
   "execution_count": 10,
   "id": "f046445d-748e-4caa-9ab7-0bffd7550d78",
   "metadata": {},
   "outputs": [
    {
     "data": {
      "text/plain": [
       "503.0"
      ]
     },
     "execution_count": 10,
     "metadata": {},
     "output_type": "execute_result"
    }
   ],
   "source": [
    "propertiespiv.sum().sum()"
   ]
  },
  {
   "cell_type": "markdown",
   "id": "d8fe9427-e1e0-4312-8b4c-830098e7182d",
   "metadata": {},
   "source": [
    "##### Output properties to CSV file"
   ]
  },
  {
   "cell_type": "code",
   "execution_count": 11,
   "id": "c189a1c9-a89c-4fcf-992f-c13644fbe488",
   "metadata": {},
   "outputs": [],
   "source": [
    "propertiespiv.to_csv('output/residential-city.csv')"
   ]
  }
 ],
 "metadata": {
  "kernelspec": {
   "display_name": "Python 3 (ipykernel)",
   "language": "python",
   "name": "python3"
  },
  "language_info": {
   "codemirror_mode": {
    "name": "ipython",
    "version": 3
   },
   "file_extension": ".py",
   "mimetype": "text/x-python",
   "name": "python",
   "nbconvert_exporter": "python",
   "pygments_lexer": "ipython3",
   "version": "3.9.17"
  }
 },
 "nbformat": 4,
 "nbformat_minor": 5
}
